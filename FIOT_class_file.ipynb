{
  "nbformat": 4,
  "nbformat_minor": 0,
  "metadata": {
    "colab": {
      "provenance": [],
      "gpuType": "T4"
    },
    "kernelspec": {
      "name": "python3",
      "display_name": "Python 3"
    },
    "language_info": {
      "name": "python"
    },
    "accelerator": "GPU"
  },
  "cells": [
    {
      "cell_type": "code",
      "source": [
        "from google.colab import drive\n",
        "drive.mount('/content/drive')"
      ],
      "metadata": {
        "colab": {
          "base_uri": "https://localhost:8080/"
        },
        "id": "bOaktDS5NGQN",
        "outputId": "d26b48c9-e9b0-4a51-f81a-3572d4d33479"
      },
      "execution_count": null,
      "outputs": [
        {
          "output_type": "stream",
          "name": "stdout",
          "text": [
            "Drive already mounted at /content/drive; to attempt to forcibly remount, call drive.mount(\"/content/drive\", force_remount=True).\n"
          ]
        }
      ]
    },
    {
      "cell_type": "code",
      "execution_count": null,
      "metadata": {
        "id": "UWMPyp1VM5AC"
      },
      "outputs": [],
      "source": [
        "import csv\n",
        "import shutil\n",
        "import os"
      ]
    },
    {
      "cell_type": "code",
      "source": [
        "# Path to the CSV file\n",
        "csv_file_path = \"/content/drive/MyDrive/UrbanSound8K.csv\"\n",
        "\n",
        "# Root directory containing the 10 folders with files\n",
        "root_directory = \"/content/drive/MyDrive/Spect\""
      ],
      "metadata": {
        "id": "PlzWxydjNRla"
      },
      "execution_count": null,
      "outputs": []
    },
    {
      "cell_type": "code",
      "source": [
        "with open(csv_file_path, 'r') as csv_file:\n",
        "    csv_reader = csv.DictReader(csv_file)\n",
        "    for row in csv_reader:\n",
        "        foldname = row['fold']\n",
        "        filename = row['slice_file_name']\n",
        "        class_folder = row['class']\n",
        "\n",
        "        # Source file path\n",
        "        source_path = os.path.join(root_directory+\"/fold\"+foldname, filename)\n",
        "\n",
        "        # Destination folder path\n",
        "        destination_folder = os.path.join(root_directory, class_folder)\n",
        "\n",
        "        # Ensure the destination folder exists, create if not\n",
        "        os.makedirs(destination_folder, exist_ok=True)\n",
        "\n",
        "        # Move the file to the destination folder\n",
        "        shutil.move(source_path, os.path.join(destination_folder, filename))"
      ],
      "metadata": {
        "id": "qpsAzzKfNftL"
      },
      "execution_count": null,
      "outputs": []
    }
  ]
}