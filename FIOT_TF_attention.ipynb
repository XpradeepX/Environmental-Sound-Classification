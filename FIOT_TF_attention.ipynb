{
  "cells": [
    {
      "cell_type": "code",
      "execution_count": 4,
      "metadata": {
        "id": "r2DyeDwb1cEc"
      },
      "outputs": [],
      "source": [
        "import pandas as pd\n",
        "import numpy as np\n",
        "import os\n",
        "os.environ['TF_CPP_MIN_LOG_LEVEL'] = '2'\n",
        "import time\n",
        "import matplotlib.pyplot as plt\n",
        "import cv2\n",
        "import seaborn as sns\n",
        "sns.set_style('darkgrid')\n",
        "import shutil\n",
        "from sklearn.metrics import confusion_matrix, classification_report\n",
        "from sklearn.model_selection import train_test_split\n",
        "import tensorflow as tf\n",
        "from tensorflow import keras\n",
        "from tensorflow.keras.preprocessing.image import ImageDataGenerator\n",
        "from tensorflow.keras.layers import Dense, Activation,Dropout,Conv2D, MaxPooling2D,BatchNormalization\n",
        "from tensorflow.keras.optimizers import Adam, Adamax\n",
        "from tensorflow.keras.metrics import categorical_crossentropy\n",
        "from tensorflow.keras import regularizers\n",
        "from tensorflow.keras.models import Model\n",
        "from tensorflow.keras import backend as K\n",
        "import time\n",
        "from tqdm import tqdm\n",
        "from PIL import Image\n",
        "from google.colab.patches import cv2_imshow"
      ]
    },
    {
      "cell_type": "code",
      "execution_count": 5,
      "metadata": {
        "id": "JpjPVlIZ1yas"
      },
      "outputs": [],
      "source": [
        "model = tf.keras.models.load_model(\"/content/drive/MyDrive/Efficientnetv2S_96.64.h5\")\n",
        "model.load_weights(\"/content/drive/MyDrive/Efficientnetv2S_weights96.64.h5\")"
      ]
    },
    {
      "cell_type": "code",
      "execution_count": 6,
      "metadata": {
        "id": "k0ATuVzM2IDa"
      },
      "outputs": [],
      "source": [
        "def grad_cam_plus(model, img,\n",
        "                  layer_name=\"top_conv\", label_name=None,\n",
        "                  category_id=None):\n",
        "    \"\"\"Get a heatmap by Grad-CAM++.\n",
        "\n",
        "    Args:\n",
        "        model: A model object, build from tf.keras 2.X.\n",
        "        img: An image ndarray.\n",
        "        layer_name: A string, layer name in model.\n",
        "        label_name: A list or None,\n",
        "            show the label name by assign this argument,\n",
        "            it should be a list of all label names.\n",
        "        category_id: An integer, index of the class.\n",
        "            Default is the category with the highest score in the prediction.\n",
        "\n",
        "    Return:\n",
        "        A heatmap ndarray(without color).\n",
        "    \"\"\"\n",
        "    img_tensor = np.expand_dims(img, axis=0)\n",
        "\n",
        "    conv_layer = model.get_layer(layer_name)\n",
        "    heatmap_model = Model([model.inputs], [conv_layer.output, model.output])\n",
        "\n",
        "    with tf.GradientTape() as gtape1:\n",
        "        with tf.GradientTape() as gtape2:\n",
        "            with tf.GradientTape() as gtape3:\n",
        "                conv_output, predictions = heatmap_model(img_tensor)\n",
        "                if category_id is None:\n",
        "                    category_id = np.argmax(predictions[0])\n",
        "                if label_name is not None:\n",
        "                    print(label_name[category_id])\n",
        "                output = predictions[:, category_id]\n",
        "                conv_first_grad = gtape3.gradient(output, conv_output)\n",
        "            conv_second_grad = gtape2.gradient(conv_first_grad, conv_output)\n",
        "        conv_third_grad = gtape1.gradient(conv_second_grad, conv_output)\n",
        "\n",
        "    global_sum = np.sum(conv_output, axis=(0, 1, 2))\n",
        "\n",
        "    alpha_num = conv_second_grad[0]\n",
        "    alpha_denom = conv_second_grad[0]*2.0 + conv_third_grad[0]*global_sum\n",
        "    alpha_denom = np.where(alpha_denom != 0.0, alpha_denom, 1e-10)\n",
        "\n",
        "    alphas = alpha_num/alpha_denom\n",
        "    alpha_normalization_constant = np.sum(alphas, axis=(0,1))\n",
        "    alphas /= alpha_normalization_constant\n",
        "\n",
        "    weights = np.maximum(conv_first_grad[0], 0.0)\n",
        "\n",
        "    deep_linearization_weights = np.sum(weights*alphas, axis=(0,1))\n",
        "    grad_cam_map = np.sum(deep_linearization_weights*conv_output[0], axis=2)\n",
        "\n",
        "    heatmap = np.maximum(grad_cam_map, 0)\n",
        "    max_heat = np.max(heatmap)\n",
        "    if max_heat == 0:\n",
        "        max_heat = 1e-10\n",
        "    heatmap /= max_heat\n",
        "\n",
        "    return heatmap"
      ]
    },
    {
      "cell_type": "code",
      "execution_count": 7,
      "metadata": {
        "id": "2pbw0IJK2Tkh"
      },
      "outputs": [],
      "source": [
        "def show_imgwithheat(img_path, heatmap, alpha=0.8, return_array=False):\n",
        "    \"\"\"Show the image with heatmap.\n",
        "\n",
        "    Args:\n",
        "        img_path: string.\n",
        "        heatmap: image array, get it by calling grad_cam().\n",
        "        alpha: float, transparency of heatmap.\n",
        "        return_array: bool, return a superimposed image array or not.\n",
        "    Return:\n",
        "        None or image array.\n",
        "    \"\"\"\n",
        "    img = cv2.imread(img_path)\n",
        "    heatmap = cv2.resize(heatmap, (img.shape[1], img.shape[0]))\n",
        "    heatmap = (heatmap*255).astype(\"uint8\")\n",
        "    heatmap = cv2.applyColorMap(heatmap, cv2.COLORMAP_JET)\n",
        "    superimposed_img = heatmap * alpha + img\n",
        "    superimposed_img = np.clip(superimposed_img, 0, 255).astype(\"uint8\")\n",
        "    superimposed_img = cv2.cvtColor(superimposed_img, cv2.COLOR_BGR2RGB)\n",
        "\n",
        "    imgwithheat = Image.fromarray(superimposed_img)\n",
        "\n",
        "    return superimposed_img"
      ]
    },
    {
      "cell_type": "code",
      "execution_count": 8,
      "metadata": {
        "id": "FCHsZmEo2u5D"
      },
      "outputs": [],
      "source": [
        "sdir = r\"/content/drive/MyDrive/Spect/data\"\n",
        "\n",
        "ddir = r\"/content/drive/MyDrive/ft_att\""
      ]
    },
    {
      "cell_type": "code",
      "execution_count": 9,
      "metadata": {
        "id": "Pqua2y72_Lep"
      },
      "outputs": [],
      "source": [
        "for filename in os.listdir(sdir):\n",
        "    if filename.endswith(('.jpg', '.png', '.jpeg')):\n",
        "        img_path = os.path.join(sdir, filename)\n",
        "        image = cv2.imread(img_path)\n",
        "        image = cv2.resize(image, (224,224))\n",
        "        heatmap_plus=grad_cam_plus(model, image, label_name=None, category_id=None)\n",
        "        # Overlay heatmap on the image\n",
        "        image = show_imgwithheat(img_path, heatmap_plus)\n",
        "\n",
        "        # Save the result to the output folder\n",
        "        output_path = os.path.join(ddir, f\"{filename}\")\n",
        "        cv2.imwrite(output_path, image)"
      ]
    }
  ],
  "metadata": {
    "accelerator": "GPU",
    "colab": {
      "provenance": [],
      "gpuType": "T4"
    },
    "kernelspec": {
      "display_name": "Python 3",
      "name": "python3"
    },
    "language_info": {
      "name": "python"
    }
  },
  "nbformat": 4,
  "nbformat_minor": 0
}